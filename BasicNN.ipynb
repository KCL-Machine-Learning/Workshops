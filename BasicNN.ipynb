{
  "nbformat": 4,
  "nbformat_minor": 0,
  "metadata": {
    "colab": {
      "name": "BasicNN.ipynb",
      "provenance": [],
      "collapsed_sections": []
    },
    "kernelspec": {
      "name": "python3",
      "display_name": "Python 3"
    }
  },
  "cells": [
    {
      "cell_type": "markdown",
      "metadata": {
        "id": "dh3kD-_VCAxg",
        "colab_type": "text"
      },
      "source": [
        "# Building a basic MNIST classifier"
      ]
    },
    {
      "cell_type": "code",
      "metadata": {
        "id": "B1sGqeskXy9z",
        "colab_type": "code",
        "outputId": "14978216-92c6-4793-b777-c5900144a98f",
        "colab": {
          "base_uri": "https://localhost:8080/",
          "height": 34
        }
      },
      "source": [
        "# the dataset has to be stored on your google drive. The following libraies are used to access it. \n",
        "# follow the instructions in the promt after running this cell \n",
        "from google.colab import drive\n",
        "drive.mount('/content/gdrive')"
      ],
      "execution_count": 0,
      "outputs": [
        {
          "output_type": "stream",
          "text": [
            "Drive already mounted at /content/gdrive; to attempt to forcibly remount, call drive.mount(\"/content/gdrive\", force_remount=True).\n"
          ],
          "name": "stdout"
        }
      ]
    },
    {
      "cell_type": "code",
      "metadata": {
        "id": "3Yx26WfQXzvd",
        "colab_type": "code",
        "outputId": "0ab8cc5f-1411-4cb8-a17d-340554009881",
        "colab": {
          "base_uri": "https://localhost:8080/",
          "height": 34
        }
      },
      "source": [
        "import os \n",
        "print(os.listdir('gdrive/My Drive/MLWorkshop1'))        # checking that the dataset is in your folder \n",
        "filepath = 'gdrive/My Drive/MLWorkshop1'"
      ],
      "execution_count": 0,
      "outputs": [
        {
          "output_type": "stream",
          "text": [
            "['mnist_test.csv', 'mnist_train.csv']\n"
          ],
          "name": "stdout"
        }
      ]
    },
    {
      "cell_type": "code",
      "metadata": {
        "id": "j69Cp9l4Yb2Z",
        "colab_type": "code",
        "colab": {}
      },
      "source": [
        "# the dataset is composed of a test file and a train file. \n",
        "# You can download it here https://www.kaggle.com/oddrationale/mnist-in-csv\n",
        "train_data = open(filepath+\"/mnist_train.csv\").readlines()\n",
        "test_data = open(filepath+\"/mnist_test.csv\").readlines()"
      ],
      "execution_count": 0,
      "outputs": []
    },
    {
      "cell_type": "code",
      "metadata": {
        "id": "19UY4gUcZHrU",
        "colab_type": "code",
        "colab": {}
      },
      "source": [
        "# importing the necessary libraries.\n",
        "\n",
        "import torch            # general pytorch\n",
        "import torch.nn.functional as F         # simply renaming this to F so it's easier \n",
        "import torch.nn as nn                   # these are generic neural network related functions \n",
        "import torch.optim as optim             # here we can find the optimisers (SGD, Adam, Adagrad, etc...)\n",
        "\n",
        "# for almost all operations you can perform in pytorch there is a functional version and an nn.Module inheriting class.\n",
        "# We will use a mixture\n",
        "# we will create objects for the individual layers of our network, but we will use the functional version of the non-linearity functions \n",
        "\n",
        "import numpy as np              # linear algebra in python (pytorch does everything this does and a lot more, but other libraries don't support pytorch's datatype)\n",
        "import random"
      ],
      "execution_count": 0,
      "outputs": []
    },
    {
      "cell_type": "code",
      "metadata": {
        "id": "8sj1u2VkZB0O",
        "colab_type": "code",
        "colab": {}
      },
      "source": [
        "def prepare_data(raw_data):\n",
        "    data = []           # we will have a list of all the examples in pytorch's format \n",
        "    for line in raw_data:\n",
        "        # lines when reading the datase are strings, with numbers separated by commas. we split them, cast to int and build a torch.Tensor object\n",
        "        # then we unsqueeze along the first dimension so we go from shape = (785) to shape = (1, 785)  we need this so that we can conactenate them later \n",
        "        datapoint = torch.FloatTensor([int(i) for i in line.split(',')]).unsqueeze(0)      \n",
        "        data.append(datapoint)\n",
        "    return data\n",
        "\n",
        "\n",
        "# removing the header from train_data, we want everything except the fist \n",
        "train_data = prepare_data(train_data[1:])\n",
        "test_data = prepare_data(test_data[1:])\n",
        "\n",
        "random.shuffle(train_data)\n",
        "random.shuffle(test_data)"
      ],
      "execution_count": 0,
      "outputs": []
    },
    {
      "cell_type": "code",
      "metadata": {
        "id": "DbJoxK4xZGQ2",
        "colab_type": "code",
        "colab": {}
      },
      "source": [
        "# feeding the model more than one example at a time leverages the computer's parallel processing power.\n",
        "# This is especially effective when running models on GPUs \n",
        "\n",
        "def get_batch(b_size=128):\n",
        "    i = random.randint(0, len(train_data)-b_size)\n",
        "    batch = torch.cat(train_data[i: i+b_size], 0)\n",
        "    X = batch[:, 1:]            # these are the actual pixel values \n",
        "    targets = batch[:, 0]       # the first element in every example is the correct class \n",
        "    return X, targets.long()    # we cast the targets to the long datatype because this is what our error function will take as parameter"
      ],
      "execution_count": 0,
      "outputs": []
    },
    {
      "cell_type": "markdown",
      "metadata": {
        "id": "gNecJgicF4nG",
        "colab_type": "text"
      },
      "source": [
        "Let's plot an example datapoint "
      ]
    },
    {
      "cell_type": "code",
      "metadata": {
        "id": "k4b5rx4mZZGY",
        "colab_type": "code",
        "outputId": "7bb83252-c932-447d-d3e7-638ded67e700",
        "colab": {
          "base_uri": "https://localhost:8080/",
          "height": 299
        }
      },
      "source": [
        "import matplotlib.pyplot as plt         # used for plotting graphs\n",
        "%matplotlib inline     \n",
        "\n",
        "x, y = get_batch(1)\n",
        "\n",
        "print(\"Picked a \", y.item())\n",
        "plt.imshow(x.view(28, 28).numpy(), cmap='gray')"
      ],
      "execution_count": 0,
      "outputs": [
        {
          "output_type": "stream",
          "text": [
            "Picked a  5\n"
          ],
          "name": "stdout"
        },
        {
          "output_type": "execute_result",
          "data": {
            "text/plain": [
              "<matplotlib.image.AxesImage at 0x7f16c7ac3cc0>"
            ]
          },
          "metadata": {
            "tags": []
          },
          "execution_count": 19
        },
        {
          "output_type": "display_data",
          "data": {
            "image/png": "[encoded data removed]",
            "text/plain": [
              "<Figure size 432x288 with 1 Axes>"
            ]
          },
          "metadata": {
            "tags": []
          }
        }
      ]
    },
    {
      "cell_type": "markdown",
      "metadata": {
        "id": "vRa2CHVDF8Eg",
        "colab_type": "text"
      },
      "source": [
        "Defining out model"
      ]
    },
    {
      "cell_type": "code",
      "metadata": {
        "id": "BfAp0V8WZenc",
        "colab_type": "code",
        "colab": {}
      },
      "source": [
        "class FeedForwardNetwork(nn.Module):            # inheriting nn.Module so that pytorch recognizes it as a pytorch model\n",
        "\n",
        "    def __init__(self):\n",
        "        \"\"\" here we initialise the layers \"\"\"\n",
        "        super(FeedForwardNetwork, self).__init__()\n",
        "        # nn.Linear defines a simple linear layer, so y = Wx + b \n",
        "        self.layer0 = nn.Linear(784, 512)           # the parameters passed are the input size and the output size. They can be anything you want \n",
        "        self.layer1 = nn.Linear(512, 256)               # they specify the shape of W and b\n",
        "        self.output_layer = nn.Linear(256, 10)         # since we are classifying over 10 classes we want the output size to be 10\n",
        "\n",
        "    def forward(self, X):       # this is the function that we will call to run the model \n",
        "        h0 = F.relu(self.layer0(X))         # ReLU is our non-linearity (rectified lienar unit)\n",
        "        h1 = F.relu(self.layer1(h0))\n",
        "        output = self.output_layer(h1)\n",
        "        return output"
      ],
      "execution_count": 0,
      "outputs": []
    },
    {
      "cell_type": "markdown",
      "metadata": {
        "id": "SaHfmaVSJh2H",
        "colab_type": "text"
      },
      "source": [
        "Training our network"
      ]
    },
    {
      "cell_type": "code",
      "metadata": {
        "id": "ORy2SVHZZclm",
        "colab_type": "code",
        "outputId": "0b1caa07-a31c-49fb-ed6b-59bf6b836fc4",
        "colab": {
          "base_uri": "https://localhost:8080/",
          "height": 187
        }
      },
      "source": [
        "\n",
        "model = FeedForwardNetwork()\n",
        "model_optim = optim.SGD(model.parameters(), lr=1e-3)        # creating the optimizer using SGD, telling what variables it can optimize and what the learning rate is \n",
        "\n",
        "iter_num = int(1e4)\n",
        "for i in range(iter_num):           # training for iter_num number of steps \n",
        "                            # when dealing with a proper task we would train in number of epochs (full passes over the full dataset)\n",
        "                            # being just a demo, and given that this dataset is so easy we don't need this now \n",
        "    x, y = get_batch()\n",
        "    y_ = model(x)           # running the model, we don't need to call mdoel.forward(x) because pytorch automatigically does that for us on nn.Module obejcts  \n",
        "    loss = F.cross_entropy(y_, y)       # our loss function. Basically all we are trying to do is minimize this error function \n",
        "    \n",
        "    loss.backward()         # calculates the gradients wrt each parameter and stores them \n",
        "    model_optim.step()      # performs one parameter update using the optimizer we defined previously \n",
        "    model_optim.zero_grad()   # clears the gradients. they would otherwise be accumulated through time. this would be useful for example with recurrent architectures \n",
        "    \n",
        "    if i % 1000 == 0:\n",
        "        print(\"step\", i, \"cost\", loss.item())"
      ],
      "execution_count": 0,
      "outputs": [
        {
          "output_type": "stream",
          "text": [
            "step 0 cost 12.9999418258667\n",
            "step 1000 cost 0.0638662800192833\n",
            "step 2000 cost 0.1590200513601303\n",
            "step 3000 cost 0.041479840874671936\n",
            "step 4000 cost 0.032555703073740005\n",
            "step 5000 cost 0.06941087543964386\n",
            "step 6000 cost 0.016830211505293846\n",
            "step 7000 cost 0.012399942614138126\n",
            "step 8000 cost 0.016072439029812813\n",
            "step 9000 cost 0.008698497898876667\n"
          ],
          "name": "stdout"
        }
      ]
    },
    {
      "cell_type": "markdown",
      "metadata": {
        "id": "-EpRPjWFJkaS",
        "colab_type": "text"
      },
      "source": [
        "Finding our model's accuracy with the test set. "
      ]
    },
    {
      "cell_type": "code",
      "metadata": {
        "id": "m_BAL2XOZk5R",
        "colab_type": "code",
        "colab": {}
      },
      "source": [
        "# we will simply evaluate all the examples in the test set, and store the wrong ones so we can later look at them \n",
        "\n",
        "wrong = []\n",
        "for digit in test_data:\n",
        "    x = digit[:, 1:]\n",
        "    y = digit[:, 0]\n",
        "    y_ = F.softmax(model(x), 1).detach().numpy()\n",
        "    predicted_class = np.argmax(y_)\n",
        "    if predicted_class != y:\n",
        "        wrong.append({\"predicted\": predicted_class,\n",
        "                      \"model output\": y_,\n",
        "                      \"model input\": x, \n",
        "                      \"true class\": y})\n"
      ],
      "execution_count": 0,
      "outputs": []
    },
    {
      "cell_type": "code",
      "metadata": {
        "id": "ZYhoBm2xbLAb",
        "colab_type": "code",
        "outputId": "5a34ecc4-8bdd-4b50-bc5e-b0cf625fe7a1",
        "colab": {
          "base_uri": "https://localhost:8080/",
          "height": 34
        }
      },
      "source": [
        "print(\"accuracy is \" , (len(test_data) - len(wrong)) / len(test_data))"
      ],
      "execution_count": 0,
      "outputs": [
        {
          "output_type": "stream",
          "text": [
            "accuracy is  0.9709\n"
          ],
          "name": "stdout"
        }
      ]
    },
    {
      "cell_type": "markdown",
      "metadata": {
        "id": "c0rMwgC4Jy8t",
        "colab_type": "text"
      },
      "source": [
        "Plotting some wrong examples\n",
        "hopefully the examples our network got wrong are also hard to classify for ourselves, this means that our network is good. "
      ]
    },
    {
      "cell_type": "code",
      "metadata": {
        "id": "dh1JfJw8cQ2B",
        "colab_type": "code",
        "colab": {}
      },
      "source": [
        "def plot_wrong(wrong_num=5):\n",
        "    for i in range(wrong_num):\n",
        "        wrong_example = random.choice(wrong)\n",
        "        print(\"Image is a \", wrong_example['true class'].item())\n",
        "        plt.imshow(wrong_example[\"model input\"].view(28, 28).numpy(), cmap=\"gray\")\n",
        "        plt.show()\n",
        "        print(\"Predicted class\", wrong_example[\"predicted\"])\n",
        "        plt.bar(list(range(10)), wrong_example['model output'].squeeze(0))\n",
        "        plt.show()\n",
        "        "
      ],
      "execution_count": 0,
      "outputs": []
    },
    {
      "cell_type": "markdown",
      "metadata": {
        "id": "C1z6_9hIKBRU",
        "colab_type": "text"
      },
      "source": [
        "we will also plot the output vector of our network, that shows the probabilities it assigned to each possible outcome. Often when it makes a mistake it assigns high probabilities to more than one possible output, meaning that it is \"confused\". "
      ]
    },
    {
      "cell_type": "code",
      "metadata": {
        "id": "m3ZUKsOIePXQ",
        "colab_type": "code",
        "outputId": "ec27f0c6-e568-41e6-e272-2ac676ecda1c",
        "colab": {
          "base_uri": "https://localhost:8080/",
          "height": 1000
        }
      },
      "source": [
        "plot_wrong(wrong_num=5)"
      ],
      "execution_count": 0,
      "outputs": [
        {
          "output_type": "stream",
          "text": [
            "Image is a  4.0\n"
          ],
          "name": "stdout"
        },
        {
          "output_type": "display_data",
          "data": {
            "image/png": "[encoded data removed]",
            "text/plain": [
              "<Figure size 432x288 with 1 Axes>"
            ]
          },
          "metadata": {
            "tags": []
          }
        },
        {
          "output_type": "stream",
          "text": [
            "Predicted class 9\n"
          ],
          "name": "stdout"
        },
        {
          "output_type": "display_data",
          "data": {
            "image/png": "[encoded data removed]",
            "text/plain": [
              "<Figure size 432x288 with 1 Axes>"
            ]
          },
          "metadata": {
            "tags": []
          }
        },
        {
          "output_type": "stream",
          "text": [
            "Image is a  5.0\n"
          ],
          "name": "stdout"
        },
        {
          "output_type": "display_data",
          "data": {
            "image/png": "[encoded data removed]",
            "text/plain": [
              "<Figure size 432x288 with 1 Axes>"
            ]
          },
          "metadata": {
            "tags": []
          }
        },
        {
          "output_type": "stream",
          "text": [
            "Predicted class 8\n"
          ],
          "name": "stdout"
        },
        {
          "output_type": "display_data",
          "data": {
            "image/png": "[encoded data removed]",
            "text/plain": [
              "<Figure size 432x288 with 1 Axes>"
            ]
          },
          "metadata": {
            "tags": []
          }
        },
        {
          "output_type": "stream",
          "text": [
            "Image is a  7.0\n"
          ],
          "name": "stdout"
        },
        {
          "output_type": "display_data",
          "data": {
            "image/png": "[encoded data removed]",
            "text/plain": [
              "<Figure size 432x288 with 1 Axes>"
            ]
          },
          "metadata": {
            "tags": []
          }
        },
        {
          "output_type": "stream",
          "text": [
            "Predicted class 3\n"
          ],
          "name": "stdout"
        },
        {
          "output_type": "display_data",
          "data": {
            "image/png": "[encoded data removed]",
            "text/plain": [
              "<Figure size 432x288 with 1 Axes>"
            ]
          },
          "metadata": {
            "tags": []
          }
        },
        {
          "output_type": "stream",
          "text": [
            "Image is a  8.0\n"
          ],
          "name": "stdout"
        },
        {
          "output_type": "display_data",
          "data": {
            "image/png": "[encoded data removed]",
            "text/plain": [
              "<Figure size 432x288 with 1 Axes>"
            ]
          },
          "metadata": {
            "tags": []
          }
        },
        {
          "output_type": "stream",
          "text": [
            "Predicted class 3\n"
          ],
          "name": "stdout"
        },
        {
          "output_type": "display_data",
          "data": {
            "image/png": "[encoded data removed]",
            "text/plain": [
              "<Figure size 432x288 with 1 Axes>"
            ]
          },
          "metadata": {
            "tags": []
          }
        },
        {
          "output_type": "stream",
          "text": [
            "Image is a  8.0\n"
          ],
          "name": "stdout"
        },
        {
          "output_type": "display_data",
          "data": {
            "image/png": "[encoded data removed]",
            "text/plain": [
              "<Figure size 432x288 with 1 Axes>"
            ]
          },
          "metadata": {
            "tags": []
          }
        },
        {
          "output_type": "stream",
          "text": [
            "Predicted class 4\n"
          ],
          "name": "stdout"
        },
        {
          "output_type": "display_data",
          "data": {
            "image/png": "[encoded data removed]",
            "text/plain": [
              "<Figure size 432x288 with 1 Axes>"
            ]
          },
          "metadata": {
            "tags": []
          }
        }
      ]
    },
    {
      "cell_type": "code",
      "metadata": {
        "id": "aIppZ3hoeZZP",
        "colab_type": "code",
        "colab": {}
      },
      "source": [
        ""
      ],
      "execution_count": 0,
      "outputs": []
    }
  ]
}